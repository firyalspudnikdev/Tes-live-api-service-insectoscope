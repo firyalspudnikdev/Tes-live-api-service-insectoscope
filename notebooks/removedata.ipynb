{
 "cells": [
  {
   "cell_type": "code",
   "execution_count": 1,
   "metadata": {},
   "outputs": [],
   "source": [
    "import pandas as pd\n",
    "\n",
    "# Baca file CSV\n",
    "csv_file = r\"E:\\KERJA\\spudniklab\\InsecstopProjeck\\data\\metadata\\data.csv\"\n",
    "df = pd.read_csv(csv_file)\n",
    "\n",
    "# Hapus baris dengan nilai sound_type bukan \"mosquito\"\n",
    "df = df[df['sound_type'] == 'mosquito']\n",
    "\n",
    "# Simpan kembali ke file CSV\n",
    "df.to_csv('data_cleaned.csv', index=False)\n",
    "\n",
    "\n",
    "\n"
   ]
  }
 ],
 "metadata": {
  "kernelspec": {
   "display_name": "Python 3",
   "language": "python",
   "name": "python3"
  },
  "language_info": {
   "codemirror_mode": {
    "name": "ipython",
    "version": 3
   },
   "file_extension": ".py",
   "mimetype": "text/x-python",
   "name": "python",
   "nbconvert_exporter": "python",
   "pygments_lexer": "ipython3",
   "version": "3.8.0"
  }
 },
 "nbformat": 4,
 "nbformat_minor": 2
}
